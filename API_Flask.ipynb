{
 "cells": [
  {
   "cell_type": "code",
   "execution_count": null,
   "metadata": {},
   "outputs": [],
   "source": [
    "from flask import Flask\n",
    "\n",
    "app = Flask(__name__)\n",
    "tabela = pd.read_excel('Vendas.xlsx')\n",
    "\n",
    "@app.route(\"/\")\n",
    "def fat():\n",
    "  faturamento = float(tabela['Valor Final'].sum())\n",
    "  return {\"Faturamento\": faturamento}\n",
    "\n",
    "@app.route(\"/vendas/produtos\")\n",
    "def vendas_produtos():\n",
    "  tabela_vendas_produtos = tabela[[\"Produto\", \"Valor Final\"]].groupby(\"Produto\").sum()\n",
    "  dic_vendas_produtos = tabela_vendas_produtos.to_dict()\n",
    "  return dic_vendas_produtos\n",
    "\n",
    "@app.route(\"/vendas/produtos/<produto>\")\n",
    "def fat_produto_especifico(produto):\n",
    "  tabela_vendas_produtos = tabela[[\"Produto\", \"Valor Final\"]].groupby(\"Produto\").sum()\n",
    "  if produto in tabela_vendas_produtos.index:\n",
    "    vendas_produto = tabela_vendas_produtos.loc[produto]\n",
    "    dic_vendas_produtos = vendas_produto.to_dict()\n",
    "    return dic_vendas_produtos\n",
    "  else:\n",
    "    return {produto: \"Inexistente\"} \n",
    "\n",
    "app.run()"
   ]
  }
 ],
 "metadata": {
  "language_info": {
   "name": "python"
  },
  "orig_nbformat": 4
 },
 "nbformat": 4,
 "nbformat_minor": 2
}
